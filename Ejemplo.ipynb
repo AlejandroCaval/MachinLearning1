{
 "cells": [
  {
   "cell_type": "markdown",
   "id": "e45e061d-4ad5-42f0-9f83-d78254f6317e",
   "metadata": {},
   "source": [
    "# Introducción\n",
    "Este es un documento de python que me permite entender las bases de este lenguaje de programacion\n",
    "programacion.<br>\n",
    "<img src=\"https://wallpapercave.com/wp/wp8816357.jpg\">\n",
    "\n",
    "\n",
    "* Python lenguaje de programación\n",
    "* Java de programación\n",
    "  * Php lenguaje de programación"
   ]
  },
  {
   "cell_type": "code",
   "execution_count": null,
   "id": "f239e9ee-db4a-4427-a6c1-a5be760a872b",
   "metadata": {},
   "outputs": [],
   "source": []
  }
 ],
 "metadata": {
  "kernelspec": {
   "display_name": "Python 3 (ipykernel)",
   "language": "python",
   "name": "python3"
  },
  "language_info": {
   "codemirror_mode": {
    "name": "ipython",
    "version": 3
   },
   "file_extension": ".py",
   "mimetype": "text/x-python",
   "name": "python",
   "nbconvert_exporter": "python",
   "pygments_lexer": "ipython3",
   "version": "3.11.13"
  }
 },
 "nbformat": 4,
 "nbformat_minor": 5
}
