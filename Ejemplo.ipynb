{
 "cells": [
  {
   "cell_type": "markdown",
   "id": "e45e061d-4ad5-42f0-9f83-d78254f6317e",
   "metadata": {},
   "source": [
    "# Introducción\n",
    "Este es un documento de python que me permite entender las bases de este lenguaje de programacion\n",
    "programacion.<br>\n",
    "<img src=\"https://wallpapercave.com/wp/wp8816357.jpg\">\n",
    "https://github.com/AlejandroCaval/MachinLearning1.git\n",
    "* Python lenguaje de programación\n",
    "* Java de programación\n",
    "  * Php lenguaje de programación\n",
    "\n",
    "<button type=\"button\" style=\"color: blue;\">Botón personalizado</button>"
   ]
  },
  {
   "cell_type": "code",
   "execution_count": 4,
   "id": "f239e9ee-db4a-4427-a6c1-a5be760a872b",
   "metadata": {},
   "outputs": [
    {
     "name": "stdout",
     "output_type": "stream",
     "text": [
      "el resultado de a es:  5\n"
     ]
    }
   ],
   "source": [
    "# Esto es un comentario\n",
    "a= 5 \n",
    "print (\"el resultado de a es: \", a)"
   ]
  },
  {
   "cell_type": "code",
   "execution_count": null,
   "id": "ddaced3d-7f48-43ec-aeea-4f072a241be3",
   "metadata": {},
   "outputs": [],
   "source": []
  }
 ],
 "metadata": {
  "kernelspec": {
   "display_name": "Python 3 (ipykernel)",
   "language": "python",
   "name": "python3"
  },
  "language_info": {
   "codemirror_mode": {
    "name": "ipython",
    "version": 3
   },
   "file_extension": ".py",
   "mimetype": "text/x-python",
   "name": "python",
   "nbconvert_exporter": "python",
   "pygments_lexer": "ipython3",
   "version": "3.11.13"
  }
 },
 "nbformat": 4,
 "nbformat_minor": 5
}
