{
 "cells": [
  {
   "cell_type": "code",
   "execution_count": 1,
   "id": "01610292-fa3d-4bf9-8b3e-c9b6e2a6c109",
   "metadata": {},
   "outputs": [],
   "source": [
    "import sqlite3\n"
   ]
  },
  {
   "cell_type": "code",
   "execution_count": 2,
   "id": "b70d6e7a-7987-40ac-86f6-de5355d96879",
   "metadata": {},
   "outputs": [],
   "source": [
    "conn = sqlite3.connect('mi_base_de_datos.db')\n"
   ]
  },
  {
   "cell_type": "code",
   "execution_count": 3,
   "id": "2ca43a25-a9a9-44ef-a736-19f1ee1bbb40",
   "metadata": {},
   "outputs": [],
   "source": [
    "cursor = conn.cursor()\n"
   ]
  },
  {
   "cell_type": "code",
   "execution_count": 4,
   "id": "e8d8d59a-4e77-4e33-9c8a-f23bbcb8d2a8",
   "metadata": {},
   "outputs": [
    {
     "data": {
      "text/plain": [
       "<sqlite3.Cursor at 0x238254c69c0>"
      ]
     },
     "execution_count": 4,
     "metadata": {},
     "output_type": "execute_result"
    }
   ],
   "source": [
    "cursor.execute('''\n",
    "CREATE TABLE IF NOT EXISTS usuarios (\n",
    "    id INTEGER PRIMARY KEY,\n",
    "    nombre TEXT,\n",
    "    edad INTEGER\n",
    ")\n",
    "''')\n"
   ]
  },
  {
   "cell_type": "code",
   "execution_count": 5,
   "id": "aaf54dbf-e5b7-48a1-be64-bc265dfc1839",
   "metadata": {},
   "outputs": [],
   "source": [
    "cursor.execute('INSERT INTO usuarios (nombre, edad) VALUES (?, ?)', ('Ana', 25))\n",
    "conn.commit()\n"
   ]
  },
  {
   "cell_type": "code",
   "execution_count": 6,
   "id": "9dec05e4-bb8f-4196-b6f4-3f97e8439b3e",
   "metadata": {},
   "outputs": [
    {
     "name": "stdout",
     "output_type": "stream",
     "text": [
      "[(1, 'Ana', 25)]\n"
     ]
    }
   ],
   "source": [
    "cursor.execute('SELECT * FROM usuarios')\n",
    "datos = cursor.fetchall()\n",
    "print(datos)\n"
   ]
  },
  {
   "cell_type": "code",
   "execution_count": null,
   "id": "edabe1b0-d883-4508-9bca-f38c7f154956",
   "metadata": {},
   "outputs": [],
   "source": []
  }
 ],
 "metadata": {
  "kernelspec": {
   "display_name": "Python 3 (ipykernel)",
   "language": "python",
   "name": "python3"
  },
  "language_info": {
   "codemirror_mode": {
    "name": "ipython",
    "version": 3
   },
   "file_extension": ".py",
   "mimetype": "text/x-python",
   "name": "python",
   "nbconvert_exporter": "python",
   "pygments_lexer": "ipython3",
   "version": "3.11.13"
  }
 },
 "nbformat": 4,
 "nbformat_minor": 5
}
