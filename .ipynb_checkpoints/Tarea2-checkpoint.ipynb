{
 "cells": [
  {
   "cell_type": "markdown",
   "id": "2b18bf19-6661-4fd5-81e0-ce156403cb15",
   "metadata": {},
   "source": [
    "1. Escribe un programa que calcule la suma de todos los elementos de una *lista* dada. La lista sólo puede contener elementos numéricos."
   ]
  },
  {
   "cell_type": "code",
   "execution_count": 1,
   "id": "7a64eca7-59a4-43fd-8e46-701dcb5c8f23",
   "metadata": {},
   "outputs": [
    {
     "name": "stdout",
     "output_type": "stream",
     "text": [
      "63\n"
     ]
    }
   ],
   "source": [
    "lista = [7, 13, 21, 4, 18]\n",
    "print(sum(lista))  "
   ]
  },
  {
   "cell_type": "markdown",
   "id": "98f4723b-0b7d-4e9b-ab4f-6cdaa12bd308",
   "metadata": {},
   "source": [
    "2. Dada una lista con elementos duplicados, escribir un programa que muestre una nueva lista con el mismo contenido que la primera pero sin elementos duplicados. Para este ejercicio, no puedes hacer uso de objetos de tipo 'Set'. "
   ]
  },
  {
   "cell_type": "code",
   "execution_count": 2,
   "id": "a0cb3fdb-2ab7-4358-96b6-bb713da7ded6",
   "metadata": {},
   "outputs": [
    {
     "name": "stdout",
     "output_type": "stream",
     "text": [
      "[11, 22, 33, 44, 55]\n"
     ]
    }
   ],
   "source": [
    "lista = [11, 22, 11, 33, 44, 22, 55]\n",
    "nueva_lista = []\n",
    "for x in lista:\n",
    "    if x not in nueva_lista:\n",
    "        nueva_lista.append(x)\n",
    "print(nueva_lista)  "
   ]
  },
  {
   "cell_type": "markdown",
   "id": "1f549ce6-65a3-42f7-8e5a-9baef7adf53f",
   "metadata": {},
   "source": [
    "3. Escribe un programa que construya un diccionario que contenga un número (entre 1 y *n*) de elementos de esta forma: (x, x*x). Ejemplo: para n = 5, el diccionario resultante sería {1: 1, 2: 4, 3: 9, 4: 16, 5: 25}"
   ]
  },
  {
   "cell_type": "code",
   "execution_count": 3,
   "id": "bf2182a9-d7f0-4d78-8443-58139dbd4bbb",
   "metadata": {},
   "outputs": [
    {
     "name": "stdout",
     "output_type": "stream",
     "text": [
      "{1: 1, 2: 4, 3: 9, 4: 16, 5: 25, 6: 36}\n"
     ]
    }
   ],
   "source": [
    "n = 10\n",
    "dic = {}\n",
    "for x in range(1, n+1):\n",
    "    dic[x] = x*x\n",
    "print(dic)  "
   ]
  },
  {
   "cell_type": "markdown",
   "id": "857a5327-778a-401d-8cd4-4cf760dc091f",
   "metadata": {},
   "source": [
    "4. Escribe un programa que, dada una lista de palabras, compruebe si alguna empieza por 'a' y tiene más de 9 caracteres. Si dicha palabra existe, el programa deberá terminar en el momento exacto de encontrarla. El programa también debe mostrar un mensaje apropiado por pantalla que indique el éxito o el fracaso de la búsqueda. En caso de éxito, también se mostrará por pantalla la palabra encontrada."
   ]
  },
  {
   "cell_type": "code",
   "execution_count": 4,
   "id": "8223f248-5241-473c-9118-c44f55891cb5",
   "metadata": {},
   "outputs": [
    {
     "name": "stdout",
     "output_type": "stream",
     "text": [
      "¡Encontrada! alucinación\n"
     ]
    }
   ],
   "source": [
    "palabras = [\"alucinación\", \"avión\", \"autopista\", \"anaranjado\", \"baloncesto\"]\n",
    "for palabra in palabras:\n",
    "    if palabra.startswith(\"a\") and len(palabra) > 9:\n",
    "        print(\"¡Encontrada!\", palabra)\n",
    "        break\n",
    "else:\n",
    "    print(\"No se encontró ninguna palabra que cumpla.\")"
   ]
  },
  {
   "cell_type": "markdown",
   "id": "fa4a4427-7c65-41a7-9d1c-efdc126326fc",
   "metadata": {},
   "source": [
    "5. Dada una lista *L* de números positivos, escribir un programa que muestre otra lista (ordenada) que contenga todo índice *i* que cumpla la siguiente condición: *L[i]* es múltiplo de 3. Por ejemplo, dada la lista *L* = [3,5,13,12,1,9] el programa mostrará la lista [0,3,5] dado que *L[0], L[3] y L[5]* son, respectivamente, 3, 12 y 9, que son los únicos múltiplos de 3 que hay en *L*."
   ]
  },
  {
   "cell_type": "code",
   "execution_count": 5,
   "id": "c150808c-ea36-49f8-b301-d60539aff71e",
   "metadata": {},
   "outputs": [
    {
     "name": "stdout",
     "output_type": "stream",
     "text": [
      "[1, 3, 5]\n"
     ]
    }
   ],
   "source": [
    "L = [17, 9, 25, 18, 10, 6]\n",
    "indices = []\n",
    "for i in range(len(L)):\n",
    "    if L[i] % 3 == 0:\n",
    "        indices.append(i)\n",
    "print(indices)  "
   ]
  },
  {
   "cell_type": "markdown",
   "id": "0bc39594-54b6-4367-b8d4-60ec9026cc56",
   "metadata": {},
   "source": [
    "6. Dado un diccionario cuyos elementos son pares de tipo string y numérico (es decir, las claves son de tipo 'str' y los valores son de tipo 'int' o 'float'), escribe un programa que muestre por pantalla la clave cuyo valor asociado representa el valor númerico más alto de todo el diccionario. Por ejemplo, para el diccionario {'a': 4.3, 'b': 1, 'c': 7.8, 'd': -5} la respuesta sería 'c', dado que 7.8 es el valor más alto de los números 4.3, 1, 7.8 y -5."
   ]
  },
  {
   "cell_type": "code",
   "execution_count": 6,
   "id": "e781004e-49f6-4026-b811-50485ffc2300",
   "metadata": {},
   "outputs": [
    {
     "name": "stdout",
     "output_type": "stream",
     "text": [
      "y\n"
     ]
    }
   ],
   "source": [
    "d = {'x': 12.5, 'y': 43.2, 'z': -2, 'w': 19.7}\n",
    "mayor = max(d, key=d.get)\n",
    "print(mayor)  "
   ]
  },
  {
   "cell_type": "markdown",
   "id": "48308983-7bd3-4e47-9239-614bfb5ed11d",
   "metadata": {},
   "source": [
    "7. Dada la lista *a* = [2, 4, 6, 8] y la lista *b* = [7, 11, 15, 22], escribe un programa que itere las listas *a* y *b* y multiplique cada elemento de *a* que sea mayor que 5 por cada elemento de *b* que sea menor que 14. El programa debe mostrar los resultados por pantalla."
   ]
  },
  {
   "cell_type": "code",
   "execution_count": 20,
   "id": "37ff84c5-4a94-4c7e-8cfe-9e52e60b97c6",
   "metadata": {},
   "outputs": [
    {
     "name": "stdout",
     "output_type": "stream",
     "text": [
      "42\n",
      "66\n",
      "56\n",
      "88\n"
     ]
    }
   ],
   "source": [
    "a = [2, 4, 6, 8]\n",
    "b = [7, 11, 15, 22]\n",
    "for x in a:\n",
    "    if x > 5:\n",
    "        for y in b:\n",
    "            if y < 14:\n",
    "                print(x * y)"
   ]
  },
  {
   "cell_type": "markdown",
   "id": "dd52e3dc-40ef-49dc-9018-52e8003df088",
   "metadata": {},
   "source": [
    "8. Escribir un programa que pida un valor numérico X al usuario. Para ello podéis hacer uso de la función predefinida 'input'. El programa deberá mostrar por pantalla el resultado de la división 10/X. En caso de que el usuario introduzca valores no apropiados, el programa deberá gestionar correctamente las excepciones, por ejemplo, mostrando mensajes informativos por pantalla."
   ]
  },
  {
   "cell_type": "code",
   "execution_count": 11,
   "id": "14eb3d80-2232-444b-8721-cb40d96d469e",
   "metadata": {},
   "outputs": [
    {
     "name": "stdin",
     "output_type": "stream",
     "text": [
      "Ingresa un número:  45\n"
     ]
    },
    {
     "name": "stdout",
     "output_type": "stream",
     "text": [
      "0.2222222222222222\n"
     ]
    }
   ],
   "source": [
    "try:\n",
    "    x = float(input(\"Ingresa un número: \")) \n",
    "    print(10 / x)\n",
    "except ZeroDivisionError:\n",
    "    print(\"Error: No se puede dividir entre cero.\")\n",
    "except ValueError:\n",
    "    print(\"Error: Debes ingresar un número.\")"
   ]
  },
  {
   "cell_type": "markdown",
   "id": "a42e5576-f489-4a51-84ce-f1385f99fe66",
   "metadata": {},
   "source": [
    "9. Escribir un programa que cree un *diccionario* cualquiera. Posteriormente, el programa pedirá al usuario (a través de la función predefinida 'input') que introduzca una clave del diccionario. Si la clave introducida es correcta (es decir, existe en el diccionario), el programa mostrará por pantalla el valor asociado a dicha clave. En caso de que la clave no exista, el programa gestionará de manera apropiada el error, por ejemplo, mostrando un mensaje informativo al usuario."
   ]
  },
  {
   "cell_type": "code",
   "execution_count": 5,
   "id": "04d4f2fa-aab8-4c8f-9b88-afbae7d6b6ae",
   "metadata": {},
   "outputs": [
    {
     "name": "stdin",
     "output_type": "stream",
     "text": [
      "Clave:  población\n"
     ]
    },
    {
     "name": "stdout",
     "output_type": "stream",
     "text": [
      "3480\n"
     ]
    }
   ],
   "source": [
    "d = {\"ciudad\": \"Quito\", \"población\": 3480}\n",
    "clave = input(\"Clave: \")  \n",
    "if clave in d:\n",
    "    print(d[clave])\n",
    "else:\n",
    "    print(\"La clave no existe.\")"
   ]
  },
  {
   "cell_type": "markdown",
   "id": "ef292995-3ab5-4d82-a156-2fab1fbbdbbe",
   "metadata": {},
   "source": [
    "10. Escribe una *list comprehension* que construya una lista con los números *enteros* positivos de una lista de números dada. La lista original puede incluir números de tipo *float*, los cuales deben ser descartados."
   ]
  },
  {
   "cell_type": "code",
   "execution_count": 9,
   "id": "59663740-2696-4c64-ab9a-7189d2be0498",
   "metadata": {},
   "outputs": [
    {
     "name": "stdout",
     "output_type": "stream",
     "text": [
      "[2, 4]\n"
     ]
    }
   ],
   "source": [
    "nums = [-1, 2, 3.3, 0, 8.0, 4]\n",
    "enteros = [x for x in nums if type(x) == int and x > 0]\n",
    "print(enteros)  "
   ]
  },
  {
   "cell_type": "markdown",
   "id": "924601e9-1a46-4a0c-b10f-84e6937688c3",
   "metadata": {},
   "source": [
    "11. Escribe una *set comprehension* que, dada una palabra, construya un conjunto que contenga las vocales de dicha palabra."
   ]
  },
  {
   "cell_type": "code",
   "execution_count": 10,
   "id": "c7d0e648-a770-410f-a5c0-dcc763f99c7c",
   "metadata": {},
   "outputs": [
    {
     "name": "stdout",
     "output_type": "stream",
     "text": [
      "{'o', 'a'}\n"
     ]
    }
   ],
   "source": [
    "palabra = \"paranormal\"\n",
    "vocales = {letra for letra in palabra if letra in 'aeiou'}\n",
    "print(vocales) "
   ]
  },
  {
   "cell_type": "markdown",
   "id": "0d5a047c-a53c-428d-a768-5af41616cce5",
   "metadata": {},
   "source": [
    "12. Escribe una *list comprehension* que construya una lista con todos los números del 0 al 50 que contengan el dígito 3. El resultado será: [3, 13, 23, 30, 31, 32, 33, 34, 35, 36, 37, 38, 39, 43].\n"
   ]
  },
  {
   "cell_type": "code",
   "execution_count": 8,
   "id": "48948c21-84fd-40bb-9272-134ab81e8e3c",
   "metadata": {},
   "outputs": [
    {
     "name": "stdout",
     "output_type": "stream",
     "text": [
      "[3, 13, 23, 30, 31, 32, 33, 34, 35, 36, 37, 38, 39, 43]\n"
     ]
    }
   ],
   "source": [
    "lista = [x for x in range(51) if '3' in str(x)]\n",
    "print(lista)  "
   ]
  },
  {
   "cell_type": "markdown",
   "id": "edf8e4be-ec93-47e1-b2f8-3a7f1699d0f1",
   "metadata": {},
   "source": [
    "13. Escribe una *dictionary comprehension* que construya un diccionario que incluya los tamaños de cada palabra en una frase dada. Ejemplo: el resultado para la frase \"Soy un ser humano\" será {'Soy': 3, 'un': 2, 'ser': 3, 'humano': 6}"
   ]
  },
  {
   "cell_type": "code",
   "execution_count": 12,
   "id": "eff34a7a-1cee-4202-ba06-2fb7920d4d20",
   "metadata": {},
   "outputs": [
    {
     "name": "stdout",
     "output_type": "stream",
     "text": [
      "{'La': 2, 'creatividad': 11, 'es': 2, 'poder': 5}\n"
     ]
    }
   ],
   "source": [
    "frase = \"La creatividad es poder\"\n",
    "tamaños = {pal: len(pal) for pal in frase.split()}\n",
    "print(tamaños)  "
   ]
  },
  {
   "cell_type": "markdown",
   "id": "77edb92d-62f2-4e4d-8968-b257c872f9d2",
   "metadata": {},
   "source": [
    "14. Escribe una *list comprehension* que construya una lista que incluya todos los números del 1 al 10 en orden. La primera mitad se mostrarán en formato numérico; la segunda mitad en texto. Es decir, el resultado será: [1, 2, 3, 4, 5, 'seis', 'siete', 'ocho', 'nueve', 'diez']."
   ]
  },
  {
   "cell_type": "code",
   "execution_count": 13,
   "id": "1a7bc7fd-c691-448e-a57b-0796292a825e",
   "metadata": {},
   "outputs": [
    {
     "name": "stdout",
     "output_type": "stream",
     "text": [
      "[1, 2, 3, 4, 5, 'seis', 'siete', 'ocho', 'nueve', 'diez']\n"
     ]
    }
   ],
   "source": [
    "lista = [1, 2, 3, 4, 5, 'seis', 'siete', 'ocho', 'nueve', 'diez']\n",
    "print(lista)"
   ]
  },
  {
   "cell_type": "code",
   "execution_count": null,
   "id": "98a1bfdb-81ff-44a7-96b6-5718b3a636c6",
   "metadata": {},
   "outputs": [],
   "source": []
  }
 ],
 "metadata": {
  "kernelspec": {
   "display_name": "Python 3 (ipykernel)",
   "language": "python",
   "name": "python3"
  },
  "language_info": {
   "codemirror_mode": {
    "name": "ipython",
    "version": 3
   },
   "file_extension": ".py",
   "mimetype": "text/x-python",
   "name": "python",
   "nbconvert_exporter": "python",
   "pygments_lexer": "ipython3",
   "version": "3.11.13"
  }
 },
 "nbformat": 4,
 "nbformat_minor": 5
}
