{
 "cells": [
  {
   "cell_type": "markdown",
   "id": "66601189-99c7-401f-92d3-0cbd1369defe",
   "metadata": {},
   "source": [
    "1. Escribe un programa que muestre por pantalla la concatenación de un número y una cadena de caracteres. Para obtener esta concatenación puedes usar uno de los operadores explicados en este tema. Ejemplo: dado el número 3 y la cadena 'abc', el programa mostrará la cadena '3abc'."
   ]
  },
  {
   "cell_type": "code",
   "execution_count": null,
   "id": "8b6e244c-50da-455d-9924-f3f93f3eefae",
   "metadata": {},
   "outputs": [],
   "source": [
    "numero = 3\n",
    "cadena = 'abc'\n",
    "resultado = str(numero) + cadena\n",
    "print(resultado)  "
   ]
  },
  {
   "cell_type": "markdown",
   "id": "d0127155-0ddf-4ad6-ad1e-021fa741667a",
   "metadata": {},
   "source": [
    "2. Escribe un programa que muestre por pantalla un valor booleano que indique si un número entero *N* está contenido en un intervalo semiabierto *[a,b)*, el cual establece una cota inferior *a* (inclusive) y una cota superior *b* (exclusive) para *N*."
   ]
  },
  {
   "cell_type": "code",
   "execution_count": 1,
   "id": "2f1bba80-5987-4590-a24f-5c0252ed9523",
   "metadata": {},
   "outputs": [
    {
     "name": "stdout",
     "output_type": "stream",
     "text": [
      "True\n"
     ]
    }
   ],
   "source": [
    "N = 5\n",
    "a = 3\n",
    "b = 10\n",
    "intervalo = a <= N < b\n",
    "print(intervalo) "
   ]
  },
  {
   "cell_type": "markdown",
   "id": "d5740f61-16e4-4699-ade5-a29dd547f595",
   "metadata": {},
   "source": [
    "3. Escribe un programa que, dado dos strings *S1* y *S2* y dos números enteros *N1* y *N2*, determine si el substring que en *S1* se extiende desde la posición *N1* a la *N2* (ambos inclusive) está contenido en *S2*."
   ]
  },
  {
   "cell_type": "code",
   "execution_count": 3,
   "id": "476c0e12-e1b8-409b-8b75-3513d619ee77",
   "metadata": {},
   "outputs": [
    {
     "name": "stdout",
     "output_type": "stream",
     "text": [
      "True\n"
     ]
    }
   ],
   "source": [
    "S1 = \"Hola\"\n",
    "S2 = \"Mundo\"\n",
    "N1 = 4\n",
    "N2 = 8\n",
    "subs = S1[N1:N2+1]\n",
    "contenido = subs in S2\n",
    "print(contenido)  "
   ]
  },
  {
   "cell_type": "markdown",
   "id": "dcc0d07a-6f0a-4fba-9113-56f5de2334ff",
   "metadata": {},
   "source": [
    "4. Dada una *lista* con elementos duplicados, escribir un programa que muestre una nueva *lista* con el mismo contenido que la primera pero sin elementos duplicados."
   ]
  },
  {
   "cell_type": "code",
   "execution_count": 2,
   "id": "40299062-f43c-440d-924c-c2966ec0c538",
   "metadata": {},
   "outputs": [
    {
     "name": "stdout",
     "output_type": "stream",
     "text": [
      "[1, 2, 3, 4, 5]\n"
     ]
    }
   ],
   "source": [
    "lista = [1, 2, 2, 3, 4, 4, 5]\n",
    "listaN = list(set(lista))\n",
    "print(listaN)"
   ]
  },
  {
   "cell_type": "markdown",
   "id": "441cfeea-764c-4169-a046-421f8d74e26f",
   "metadata": {},
   "source": [
    "5. Escribe un programa que, dada una *lista* de strings *L*, un string *s* perteneciente a *L* y un string *t*, reemplace *s* por *t* en *L*. El programa debe mostrar la lista resultante por pantalla."
   ]
  },
  {
   "cell_type": "code",
   "execution_count": null,
   "id": "1426e9a6-d218-4df3-87a9-45c803ab474d",
   "metadata": {},
   "outputs": [],
   "source": [
    "lista = [\"l\",\"s\",\"t\"]"
   ]
  },
  {
   "cell_type": "markdown",
   "id": "e1f419a8-6964-4145-942a-f7da600e62cd",
   "metadata": {},
   "source": [
    "6. Escribe un programa que defina una *tupla* con elementos numéricos, reemplace el valor del último por un valor diferente y muestre la *tupla* por pantalla. Recuerda que las *tuplas* son inmutables. Tendrás que usar objetos intermedios."
   ]
  },
  {
   "cell_type": "code",
   "execution_count": 6,
   "id": "0df96e4f-0c43-426a-a8e1-dc0ead05ab67",
   "metadata": {},
   "outputs": [
    {
     "name": "stdout",
     "output_type": "stream",
     "text": [
      "(5, 6, 7, 8)\n",
      "(5, 6, 7, 18)\n"
     ]
    }
   ],
   "source": [
    "tupla = (5, 6, 7, 8)\n",
    "valor = 18\n",
    "Ntupla = tupla[:-1] + (valor,)\n",
    "print(tupla)\n",
    "print(Ntupla) "
   ]
  },
  {
   "cell_type": "markdown",
   "id": "0e93866a-1ed0-483e-895d-bf046bcc6f45",
   "metadata": {},
   "source": [
    "7. Dada la lista [1,2,3,4,5,6,7,8] escribe un programa que, a partir de esta lista, obtenga la lista [8,6,4,2] y la muestre por pantalla."
   ]
  },
  {
   "cell_type": "code",
   "execution_count": 10,
   "id": "e5c89005-f406-4a6f-81d4-f966b9b5fd49",
   "metadata": {},
   "outputs": [
    {
     "name": "stdout",
     "output_type": "stream",
     "text": [
      "[8, 6, 4, 2]\n"
     ]
    }
   ],
   "source": [
    "lista = [1,2,3,4,5,6,7,8]\n",
    "salto = lista[::-1][::2]\n",
    "print(salto)"
   ]
  },
  {
   "cell_type": "markdown",
   "id": "b4b0b526-193a-4123-a745-b3d595f9d59b",
   "metadata": {},
   "source": [
    "8. Escribe un programa que, dada una tupla y un índice válido *i*, elimine el elemento de la tupla que se encuentra en la posición *i*. Para este ejercicio sólo puedes usar objetos de tipo tupla. No puedes convetir la *tupla* a una *lista*, por ejemplo."
   ]
  },
  {
   "cell_type": "code",
   "execution_count": 11,
   "id": "39e13ab9-84b4-4bab-85ca-9ec30cf8e2c0",
   "metadata": {},
   "outputs": [
    {
     "name": "stdout",
     "output_type": "stream",
     "text": [
      "(10, 20, 40, 50)\n"
     ]
    }
   ],
   "source": [
    "tupla = (10, 20, 30, 40, 50)\n",
    "i = 2\n",
    "Ntupla = tupla[:i] + tupla[i+1:]\n",
    "print(Ntupla)  \n"
   ]
  },
  {
   "cell_type": "markdown",
   "id": "994aec84-31b9-40ab-b04c-582720acbe04",
   "metadata": {},
   "source": [
    "9. Escribe un programa que obtenga la mediana de una *lista* de números. Recuerda que la mediana *M* de una lista de números *L* es el número que cumple la siguiente propiedad: la mitad de los números de *L* son superiores a *M* y la otra mitad son inferiores. Cuando el número de elementos de *L* es par, se puede considerar que hay dos medianas. No obstante, en este ejercicio consideraremos que únicamente existe una mediana."
   ]
  },
  {
   "cell_type": "code",
   "execution_count": null,
   "id": "2d5df7d0-ff20-42ea-9aa9-42140c450eb8",
   "metadata": {},
   "outputs": [],
   "source": [
    "lista = [5, 1, 9, 3, 7]\n",
    "lista.sort()\n",
    "n = len(lista)\n",
    "mediana = lista[n // 2]\n",
    "print(mediana)  "
   ]
  }
 ],
 "metadata": {
  "kernelspec": {
   "display_name": "Python 3 (ipykernel)",
   "language": "python",
   "name": "python3"
  },
  "language_info": {
   "codemirror_mode": {
    "name": "ipython",
    "version": 3
   },
   "file_extension": ".py",
   "mimetype": "text/x-python",
   "name": "python",
   "nbconvert_exporter": "python",
   "pygments_lexer": "ipython3",
   "version": "3.11.13"
  }
 },
 "nbformat": 4,
 "nbformat_minor": 5
}
