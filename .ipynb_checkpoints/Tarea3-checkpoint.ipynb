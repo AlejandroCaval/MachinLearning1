{
 "cells": [
  {
   "cell_type": "markdown",
   "id": "939a9569-c479-4fbc-877b-b854f5d783ac",
   "metadata": {},
   "source": [
    "# Introducción\n",
    "Este es un documento de python que me permite entender las bases de este lenguaje de programacion\n",
    "programacion.<br>\n",
    "<img src=\"https://wallpapercave.com/wp/wp8816357.jpg\">\n",
    "https://github.com/AlejandroCaval/MachinLearning1.git\n",
    "\n",
    "Alejandro Caval"
   ]
  },
  {
   "cell_type": "markdown",
   "id": "8c5bc42a-f091-4ec7-b9c7-19245938aade",
   "metadata": {},
   "source": [
    "1. Escribe una función que reciba como entrada una *lista* con números y devuelva como resultado una *lista* con los cuadrados de los números contenidos en la lista de entrada."
   ]
  },
  {
   "cell_type": "code",
   "execution_count": 6,
   "id": "1cd2ecd6-12fe-4703-84a7-6243979b6e53",
   "metadata": {},
   "outputs": [
    {
     "name": "stdout",
     "output_type": "stream",
     "text": [
      "[1, 4, 16, 25, 36, 49, 64]\n"
     ]
    }
   ],
   "source": [
    "\n",
    "def cuadrado_lista (x):\n",
    "    resultado= []\n",
    "    for numero in x:\n",
    "        cuadrado = pow(numero , 2)\n",
    "        resultado.append(cuadrado)\n",
    "    return resultado\n",
    "        \n",
    "lista = [1 ,2 , 4 ,5, 6, 7, 8] \n",
    "\n",
    "print(cuadrado_lista(lista))"
   ]
  },
  {
   "cell_type": "markdown",
   "id": "cc0a80d8-3f83-4864-a0bc-009d46b9aff6",
   "metadata": {},
   "source": [
    "2. Escribe una función que reciba números como entrada y devuelva la suma de los mismos. La función debe ser capaz de recibir una cantidad indeterminada de números. La función no debe recibir directamente ningún objeto complejo (lista, conjunto, etc.)."
   ]
  },
  {
   "cell_type": "code",
   "execution_count": 5,
   "id": "c12ccac5-8e2f-4609-aca7-224d72f827d8",
   "metadata": {},
   "outputs": [
    {
     "name": "stdin",
     "output_type": "stream",
     "text": [
      "Ingresa un número (o escribe 'fin' para salir):  2\n"
     ]
    },
    {
     "name": "stdout",
     "output_type": "stream",
     "text": [
      "Suma actual: 2.0\n"
     ]
    },
    {
     "name": "stdin",
     "output_type": "stream",
     "text": [
      "Ingresa un número (o escribe 'fin' para salir):  3\n"
     ]
    },
    {
     "name": "stdout",
     "output_type": "stream",
     "text": [
      "Suma actual: 5.0\n"
     ]
    },
    {
     "name": "stdin",
     "output_type": "stream",
     "text": [
      "Ingresa un número (o escribe 'fin' para salir):  fin\n"
     ]
    }
   ],
   "source": [
    "def agregar_a_suma(total, numero):\n",
    "    return total + numero\n",
    "\n",
    "suma_total = 0\n",
    "\n",
    "while True:\n",
    "    entrada = input(\"Ingresa un número (o escribe 'fin' para salir): \")\n",
    "\n",
    "    if entrada.lower() == \"fin\":\n",
    "        break\n",
    "\n",
    "    try:\n",
    "        num = float(entrada)\n",
    "        suma_total = agregar_a_suma(suma_total, num)\n",
    "        print(\"Suma actual:\", suma_total)\n",
    "    except ValueError:\n",
    "        print(\"Eso no es un número válido.\")"
   ]
  },
  {
   "cell_type": "markdown",
   "id": "8afb67ec-72d6-4e83-8682-1271170a9880",
   "metadata": {},
   "source": [
    "3. Escribe una función que reciba un string como entrada y devuelva el string al revés. Ejemplo: si el string de entrada es 'hola', el resultado será 'aloh'."
   ]
  },
  {
   "cell_type": "code",
   "execution_count": 1,
   "id": "66ceedd5-45cb-4949-b646-5e9d4649b052",
   "metadata": {},
   "outputs": [
    {
     "name": "stdout",
     "output_type": "stream",
     "text": [
      "odnum aloh\n"
     ]
    }
   ],
   "source": [
    "def invertir_string(cadena):\n",
    "    return cadena[::-1]\n",
    "\n",
    "\n",
    "print(invertir_string(\"hola mundo\")) "
   ]
  },
  {
   "cell_type": "markdown",
   "id": "1f102ebc-b272-49db-9547-4bf37717ff3f",
   "metadata": {},
   "source": [
    "4. Escribe una función *lambda* que, al igual que la función desarrollada en el ejercicio anterior, invierta el string recibido como parámetro. Ejemplo: si el string de entrada es 'hola', el resultado será 'aloh'."
   ]
  },
  {
   "cell_type": "code",
   "execution_count": 2,
   "id": "bc112f67-384f-48de-95dd-7660ecf719bd",
   "metadata": {},
   "outputs": [
    {
     "name": "stdout",
     "output_type": "stream",
     "text": [
      "odnum aloh\n"
     ]
    }
   ],
   "source": [
    "invertir_lambda = lambda cadena: cadena[::-1]\n",
    "\n",
    "\n",
    "print(invertir_lambda(\"hola mundo\"))  "
   ]
  },
  {
   "cell_type": "markdown",
   "id": "40ef9217-b4bc-4336-8541-d50c51561829",
   "metadata": {},
   "source": [
    "5. Escribe una función que compruebe si un número se encuentra dentro de un rango específico."
   ]
  },
  {
   "cell_type": "code",
   "execution_count": 3,
   "id": "7f863c35-dc1a-4484-82dc-320361082063",
   "metadata": {},
   "outputs": [
    {
     "name": "stdout",
     "output_type": "stream",
     "text": [
      "True\n",
      "False\n"
     ]
    }
   ],
   "source": [
    "def esta_en_rango(numero, inicio, fin):\n",
    "    return inicio <= numero <= fin\n",
    "\n",
    "print(esta_en_rango(5, 1, 10))   \n",
    "print(esta_en_rango(15, 1, 10))  "
   ]
  },
  {
   "cell_type": "markdown",
   "id": "a74ee98b-209b-4649-a96f-0a192181cd9f",
   "metadata": {},
   "source": [
    "6. Escribe una función que reciba un número entero positivo como parámetro y devuelva una lista que contenga los 5 primeros múltiplos de dicho número. Por ejemplo, si la función recibe el número 3, devolverá la lista [3, 6, 9, 12, 15]. Si la función recibe un parámetro incorrecto (por ejemplo, un múmero menor o igual a cero), mostrará un mensaje de error por pantalla y devolverá una lista vacía."
   ]
  },
  {
   "cell_type": "code",
   "execution_count": 4,
   "id": "8b6a4c4b-dcd8-4c48-9116-27cefc8a4b74",
   "metadata": {},
   "outputs": [
    {
     "name": "stdout",
     "output_type": "stream",
     "text": [
      "[3, 6, 9, 12, 15]\n",
      "Error: el número debe ser mayor que cero.\n",
      "[]\n"
     ]
    }
   ],
   "source": [
    "def primeros_multiplos(numero):\n",
    "    if numero > 0:\n",
    "        return [numero * i for i in range(1, 6)]\n",
    "    else:\n",
    "        print(\"Error: el número debe ser mayor que cero.\")\n",
    "        return []\n",
    "\n",
    "\n",
    "print(primeros_multiplos(3))  \n",
    "print(primeros_multiplos(-2))  "
   ]
  },
  {
   "cell_type": "markdown",
   "id": "3bf4b5b1-c548-4929-80cb-e97986891d83",
   "metadata": {},
   "source": [
    "7. Escribe una función que reciba una lista como parámetro y compruebe si la lista tiene duplicados. La función devolverá *True* si la lista tiene duplicados y *False* si no los tiene."
   ]
  },
  {
   "cell_type": "code",
   "execution_count": 7,
   "id": "bf435d71-9f55-4859-be5a-b7c9efba14e3",
   "metadata": {},
   "outputs": [
    {
     "name": "stdout",
     "output_type": "stream",
     "text": [
      "False\n",
      "True\n"
     ]
    }
   ],
   "source": [
    "def tiene_duplicados(lista):\n",
    "    return len(lista) != len(set(lista))\n",
    "\n",
    "\n",
    "print(tiene_duplicados([1, 2, 3, 4]))      \n",
    "print(tiene_duplicados([1, 2, 3, 2]))       "
   ]
  },
  {
   "cell_type": "markdown",
   "id": "eecd0d0b-bbfd-4e8e-93aa-959a779d25d2",
   "metadata": {},
   "source": [
    "8. Escribe una función *lambda* que, al igual que la función desarrollada en el ejercicio anterior, reciba una lista como parámetro y compruebe si la lista tiene duplicados. La función devolverá *True* si la lista tiene duplicados y *False* si no los tiene."
   ]
  },
  {
   "cell_type": "code",
   "execution_count": 8,
   "id": "bcbc5322-a34a-4f0b-92de-eabadce730ed",
   "metadata": {},
   "outputs": [
    {
     "name": "stdout",
     "output_type": "stream",
     "text": [
      "False\n",
      "True\n"
     ]
    }
   ],
   "source": [
    "tiene_duplicados_lambda = lambda lista: len(lista) != len(set(lista))\n",
    "\n",
    "\n",
    "print(tiene_duplicados_lambda([1, 2, 3, 4]))     \n",
    "print(tiene_duplicados_lambda([1, 2, 3, 2]))    "
   ]
  },
  {
   "cell_type": "markdown",
   "id": "22abf6db-a3b6-4b4e-8bd8-d0bd735ca260",
   "metadata": {},
   "source": [
    "9. Escribe una función que compruebe si un string dado es un palíndromo. Un palíndromo es una secuencia de caracteres que se lee igual de izquierda a derecha que de derecha a izquierda. Por ejemplo, la función devolverá *True* si recibe el string \"reconocer\" y *False* si recibe el string \"python\"."
   ]
  },
  {
   "cell_type": "code",
   "execution_count": 9,
   "id": "b970f44b-44f4-4a05-b4f7-0aefd958db86",
   "metadata": {},
   "outputs": [
    {
     "name": "stdout",
     "output_type": "stream",
     "text": [
      "True\n",
      "False\n"
     ]
    }
   ],
   "source": [
    "def es_palindromo(cadena):\n",
    "    cadena = cadena.lower().replace(\" \", \"\")\n",
    "    return cadena == cadena[::-1]\n",
    "\n",
    "\n",
    "print(es_palindromo(\"reconocer\"))  \n",
    "print(es_palindromo(\"python\"))    "
   ]
  },
  {
   "cell_type": "code",
   "execution_count": null,
   "id": "aea8f869-424f-458a-a4ea-4405e7771e19",
   "metadata": {},
   "outputs": [],
   "source": []
  }
 ],
 "metadata": {
  "kernelspec": {
   "display_name": "Python 3 (ipykernel)",
   "language": "python",
   "name": "python3"
  },
  "language_info": {
   "codemirror_mode": {
    "name": "ipython",
    "version": 3
   },
   "file_extension": ".py",
   "mimetype": "text/x-python",
   "name": "python",
   "nbconvert_exporter": "python",
   "pygments_lexer": "ipython3",
   "version": "3.11.13"
  }
 },
 "nbformat": 4,
 "nbformat_minor": 5
}
