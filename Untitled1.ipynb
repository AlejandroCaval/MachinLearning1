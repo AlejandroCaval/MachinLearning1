{
 "cells": [
  {
   "cell_type": "markdown",
   "id": "530bf018-10cb-4d38-bbe4-8fbec2d099c4",
   "metadata": {},
   "source": [
    "1. Escribe un programa que calcule la suma de todos los elementos de una *lista* dada. La lista sólo puede contener elementos numéricos."
   ]
  },
  {
   "cell_type": "code",
   "execution_count": 1,
   "id": "dc90a5d3-61b2-439b-aa9b-a906d29687a6",
   "metadata": {},
   "outputs": [
    {
     "name": "stdout",
     "output_type": "stream",
     "text": [
      "183\n"
     ]
    }
   ],
   "source": [
    "lista = [22, 34, 56, 12, 45, 6, 8]\n",
    "\n",
    "suma = 0 \n",
    "\n",
    "for listas in lista:\n",
    "    suma +=  listas\n",
    "    \n",
    "print(suma)"
   ]
  },
  {
   "cell_type": "markdown",
   "id": "2470f12d-34c7-4524-997c-2a1baeb665e7",
   "metadata": {},
   "source": [
    "2. Dada una lista con elementos duplicados, escribir un programa que muestre una nueva lista con el mismo contenido que la primera pero sin elementos duplicados. Para este ejercicio, no puedes hacer uso de objetos de tipo 'Set'. "
   ]
  },
  {
   "cell_type": "code",
   "execution_count": 15,
   "id": "03e289cc-ca3d-4554-afc2-d30e7ae8cef9",
   "metadata": {},
   "outputs": [
    {
     "name": "stdout",
     "output_type": "stream",
     "text": [
      "[5, 34, 78, 1, 6, 99, 7, 4]\n"
     ]
    }
   ],
   "source": [
    "l= [5,5,34,78,1,6,99,7,34,4,4]\n",
    "\n",
    "n=[]\n",
    "for numero in l:\n",
    "    if numero not in n:\n",
    "        n.append(numero)\n",
    "print(n)        "
   ]
  },
  {
   "cell_type": "markdown",
   "id": "6e69ebab-4f69-48e2-bb54-e67b9fe76b78",
   "metadata": {},
   "source": [
    "3. Escribe un programa que construya un diccionario que contenga un número (entre 1 y *n*) de elementos de esta forma: (x, x*x). Ejemplo: para n = 5, el diccionario resultante sería {1: 1, 2: 4, 3: 9, 4: 16, 5: 25}"
   ]
  },
  {
   "cell_type": "code",
   "execution_count": 13,
   "id": "a3df8d8c-ec64-4442-9b91-d5a0b78c2518",
   "metadata": {},
   "outputs": [
    {
     "name": "stdout",
     "output_type": "stream",
     "text": [
      "{1: 2, 2: 4, 3: 6, 4: 8, 5: 10}\n"
     ]
    }
   ],
   "source": [
    "n=5\n",
    "\n",
    "dic= {}\n",
    "for i in range(1,n+1):\n",
    "    dic [i] = i+i\n",
    "\n",
    "print(dic)\n"
   ]
  },
  {
   "cell_type": "markdown",
   "id": "a47291da-6e5b-4b0e-af30-c99fdb659a18",
   "metadata": {},
   "source": [
    "Dada una lista *L* de números positivos, escribir un programa que muestre otra lista (ordenada) que contenga todo índice *i* que cumpla la siguiente condición: *L[i]* es múltiplo de 3. Por ejemplo, dada la lista *L* = [3,5,13,12,1,9] el programa mostrará la lista [0,3,5] dado que *L[0], L[3] y L[5]* son, respectivamente, 3, 12 y 9, que son los únicos múltiplos de 3 que hay en *L*."
   ]
  },
  {
   "cell_type": "code",
   "execution_count": 11,
   "id": "32e38c11-e5ca-4be7-a049-6149fb2e4452",
   "metadata": {},
   "outputs": [
    {
     "name": "stdout",
     "output_type": "stream",
     "text": [
      "[0, 3, 5]\n"
     ]
    }
   ],
   "source": [
    "l = [3,5,13,12,1,9]\n",
    "\n",
    "result=[]\n",
    "for i in range(len(l)):\n",
    "    if l[i] % 3 ==0:\n",
    "        result.append(i)\n",
    "print(result)"
   ]
  },
  {
   "cell_type": "code",
   "execution_count": null,
   "id": "b9ee5289-3f8f-4805-bf77-eb4e71140873",
   "metadata": {},
   "outputs": [],
   "source": []
  }
 ],
 "metadata": {
  "kernelspec": {
   "display_name": "Python 3 (ipykernel)",
   "language": "python",
   "name": "python3"
  },
  "language_info": {
   "codemirror_mode": {
    "name": "ipython",
    "version": 3
   },
   "file_extension": ".py",
   "mimetype": "text/x-python",
   "name": "python",
   "nbconvert_exporter": "python",
   "pygments_lexer": "ipython3",
   "version": "3.11.13"
  }
 },
 "nbformat": 4,
 "nbformat_minor": 5
}
