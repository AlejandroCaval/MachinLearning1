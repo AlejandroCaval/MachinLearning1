{
 "cells": [
  {
   "cell_type": "markdown",
   "id": "dc8de677-67c1-44fa-a56f-2b0dc5472ba6",
   "metadata": {},
   "source": [
    "1. Escribe un programa que muestre por pantalla la concatenación de un número y una cadena de caracteres. Para obtener esta concatenación puedes usar uno de los operadores explicados en este tema. Ejemplo: dado el número 3 y la cadena 'abc', el programa mostrará la cadena '3abc'."
   ]
  },
  {
   "cell_type": "code",
   "execution_count": 9,
   "id": "2e9bf260-4780-42c3-ba69-bba3f83c4867",
   "metadata": {},
   "outputs": [
    {
     "name": "stdout",
     "output_type": "stream",
     "text": [
      "3abc\n"
     ]
    }
   ],
   "source": [
    "numero = 3\n",
    "cadena = 'abc'\n",
    "resultado = str(numero) + cadena\n",
    "print(resultado)  "
   ]
  },
  {
   "cell_type": "markdown",
   "id": "5f8288e1-985b-413b-9705-87117dd85b6e",
   "metadata": {},
   "source": [
    "2. Escribe un programa que muestre por pantalla un valor booleano que indique si un número entero *N* está contenido en un intervalo semiabierto *[a,b)*, el cual establece una cota inferior *a* (inclusive) y una cota superior *b* (exclusive) para *N*."
   ]
  },
  {
   "cell_type": "code",
   "execution_count": 8,
   "id": "0c51acdf-66b8-4b21-878b-8fbc03fd8237",
   "metadata": {},
   "outputs": [
    {
     "name": "stdout",
     "output_type": "stream",
     "text": [
      "True\n"
     ]
    }
   ],
   "source": [
    "a = 5\n",
    "b = 10\n",
    "N = 7\n",
    "en_intervalo = a <= N < b\n",
    "print(en_intervalo)  "
   ]
  },
  {
   "cell_type": "markdown",
   "id": "6400fcf0-5b36-4688-b916-87f3fa425263",
   "metadata": {},
   "source": [
    "3. Escribe un programa que, dado dos strings *S1* y *S2* y dos números enteros *N1* y *N2*, determine si el substring que en *S1* se extiende desde la posición *N1* a la *N2* (ambos inclusive) está contenido en *S2*."
   ]
  },
  {
   "cell_type": "code",
   "execution_count": 7,
   "id": "5d0daae3-6c41-455a-9c1d-5da393720fba",
   "metadata": {},
   "outputs": [
    {
     "name": "stdout",
     "output_type": "stream",
     "text": [
      "False\n"
     ]
    }
   ],
   "source": [
    "S1 = \"programacion\"\n",
    "S2 = \"gran\"\n",
    "N1 = 3\n",
    "N2 = 6\n",
    "substring = S1[N1:N2+1] \n",
    "contenido = substring in S2\n",
    "print(contenido)  "
   ]
  },
  {
   "cell_type": "markdown",
   "id": "af578494-887f-4c21-95e8-b9ef5e169e53",
   "metadata": {},
   "source": [
    "4. Dada una *lista* con elementos duplicados, escribir un programa que muestre una nueva *lista* con el mismo contenido que la primera pero sin elementos duplicados."
   ]
  },
  {
   "cell_type": "code",
   "execution_count": 6,
   "id": "96aa3c5e-a135-473f-a23d-cdf26dad3af1",
   "metadata": {},
   "outputs": [
    {
     "name": "stdout",
     "output_type": "stream",
     "text": [
      "[1, 2, 3, 4, 5]\n"
     ]
    }
   ],
   "source": [
    "lista = [1, 2, 2, 3, 4, 4, 5]\n",
    "lista_nueva = list(set(lista))\n",
    "print(lista_nueva) "
   ]
  },
  {
   "cell_type": "markdown",
   "id": "f892f1ef-5b67-486c-b045-f1c01ccc483b",
   "metadata": {},
   "source": [
    "5. Escribe un programa que, dada una *lista* de strings *L*, un string *s* perteneciente a *L* y un string *t*, reemplace *s* por *t* en *L*. El programa debe mostrar la lista resultante por pantalla."
   ]
  },
  {
   "cell_type": "code",
   "execution_count": 5,
   "id": "3bc2d97c-8e30-43b2-8c8a-775fbe3271a2",
   "metadata": {},
   "outputs": [
    {
     "name": "stdout",
     "output_type": "stream",
     "text": [
      "['manzana', 'pera', 'cereza']\n"
     ]
    }
   ],
   "source": [
    "L = ['manzana', 'banana', 'cereza']\n",
    "s = 'banana'\n",
    "t = 'pera'\n",
    "L_modificada = [t if elemento == s else elemento for elemento in L]\n",
    "print(L_modificada) "
   ]
  },
  {
   "cell_type": "markdown",
   "id": "b35fd62d-6bd7-446f-bd71-864356ae11e9",
   "metadata": {},
   "source": [
    "6. Escribe un programa que defina una *tupla* con elementos numéricos, reemplace el valor del último por un valor diferente y muestre la *tupla* por pantalla. Recuerda que las *tuplas* son inmutables. Tendrás que usar objetos intermedios."
   ]
  },
  {
   "cell_type": "code",
   "execution_count": 4,
   "id": "9855fd08-8900-48a1-b0da-290d30c80584",
   "metadata": {},
   "outputs": [
    {
     "name": "stdout",
     "output_type": "stream",
     "text": [
      "(1, 2, 3, 34)\n"
     ]
    }
   ],
   "source": [
    "tupla = (1, 2, 3, 4)\n",
    "nueva_tupla = tupla[:-1] + (34,)  \n",
    "print(nueva_tupla)  "
   ]
  },
  {
   "cell_type": "markdown",
   "id": "dc5617cd-8366-4a72-90d9-d0548cf13064",
   "metadata": {},
   "source": [
    "7. Dada la lista [1,2,3,4,5,6,7,8] escribe un programa que, a partir de esta lista, obtenga la lista [8,6,4,2] y la muestre por pantalla."
   ]
  },
  {
   "cell_type": "code",
   "execution_count": 3,
   "id": "0eb79dde-fa43-473e-8105-db2cd9b86644",
   "metadata": {},
   "outputs": [
    {
     "name": "stdout",
     "output_type": "stream",
     "text": [
      "[8, 6, 4, 2]\n"
     ]
    }
   ],
   "source": [
    "lista = [1, 2, 3, 4, 5, 6, 7, 8]\n",
    "resultado = lista[::-1][::2] \n",
    "print(resultado)  "
   ]
  },
  {
   "cell_type": "markdown",
   "id": "19457979-c1de-432f-8b67-13ca64994a26",
   "metadata": {},
   "source": [
    "8. Escribe un programa que, dada una tupla y un índice válido *i*, elimine el elemento de la tupla que se encuentra en la posición *i*. Para este ejercicio sólo puedes usar objetos de tipo tupla. No puedes convetir la *tupla* a una *lista*, por ejemplo."
   ]
  },
  {
   "cell_type": "code",
   "execution_count": 2,
   "id": "c3d1ef0e-72ac-4171-be5b-9589f4261c5a",
   "metadata": {},
   "outputs": [
    {
     "name": "stdout",
     "output_type": "stream",
     "text": [
      "(10, 20, 40)\n"
     ]
    }
   ],
   "source": [
    "def eliminar(tupla, i):\n",
    "    return tupla[:i] + tupla[i+1:]\n",
    "\n",
    "mi_tupla = (10, 20, 30, 40)\n",
    "indice = 2\n",
    "nueva = eliminar(mi_tupla, indice)\n",
    "print(nueva)  "
   ]
  },
  {
   "cell_type": "markdown",
   "id": "d8ea9d6c-66e3-41a8-941a-d843909a48cc",
   "metadata": {},
   "source": [
    "9. Escribe un programa que obtenga la mediana de una *lista* de números. Recuerda que la mediana *M* de una lista de números *L* es el número que cumple la siguiente propiedad: la mitad de los números de *L* son superiores a *M* y la otra mitad son inferiores. Cuando el número de elementos de *L* es par, se puede considerar que hay dos medianas. No obstante, en este ejercicio consideraremos que únicamente existe una mediana."
   ]
  },
  {
   "cell_type": "code",
   "execution_count": 1,
   "id": "6c2f8fcb-93d0-46b2-9ed1-9a486babefe3",
   "metadata": {},
   "outputs": [
    {
     "name": "stdout",
     "output_type": "stream",
     "text": [
      "4\n"
     ]
    }
   ],
   "source": [
    "lista = [7, 1, 3, 4, 9]\n",
    "orden = sorted(lista)\n",
    "n = len(orden)\n",
    "mediana = orden[n // 2]\n",
    "print(mediana)  "
   ]
  },
  {
   "cell_type": "code",
   "execution_count": null,
   "id": "ea532dcd-9013-4c89-91dc-57e63b047b3f",
   "metadata": {},
   "outputs": [],
   "source": []
  }
 ],
 "metadata": {
  "kernelspec": {
   "display_name": "Python 3 (ipykernel)",
   "language": "python",
   "name": "python3"
  },
  "language_info": {
   "codemirror_mode": {
    "name": "ipython",
    "version": 3
   },
   "file_extension": ".py",
   "mimetype": "text/x-python",
   "name": "python",
   "nbconvert_exporter": "python",
   "pygments_lexer": "ipython3",
   "version": "3.11.13"
  }
 },
 "nbformat": 4,
 "nbformat_minor": 5
}
